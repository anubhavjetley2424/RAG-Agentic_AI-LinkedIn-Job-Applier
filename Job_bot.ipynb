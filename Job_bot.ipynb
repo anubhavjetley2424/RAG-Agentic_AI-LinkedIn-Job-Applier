
from selenium import webdriver
# from selenium.webdriver.edge.service import Service
# from selenium.webdriver.edge.options import Options
from selenium.webdriver.common.keys import Keys
from selenium.webdriver.common.by import By
from bs4 import BeautifulSoup
from selenium.webdriver.support.ui import Select
# from selenium.webdriver.support.ui import WebDriverWait
import random
from selenium.webdriver.support import expected_conditions as EC
import time
from random import randint
from thefuzz import process
import json
from fuzzywuzzy import process, fuzz
import requests
from datetime import datetime
import pandas as pd
from openpyxl import load_workbook
# Set the path to your downloaded Edge WebDriver executable
# Initialize the Edge WebDriver
# driver = webdriver.Edge(service=edge_service)
# driver.implicitly_wait(randint(1,3))
c:\Users\anubh\AppData\Local\Programs\Python\Python39\lib\site-packages\fuzzywuzzy\fuzz.py:11: UserWarning: Using slow pure-python SequenceMatcher. Install python-Levenshtein to remove this warning
  warnings.warn('Using slow pure-python SequenceMatcher. Install python-Levenshtein to remove this warning')
driver = webdriver.Edge()
secrets_file = r"C:\Users\anubh\Documents\AI_Agent_LinkedIn_JobSearch\all_data\secrets.json"
applied_jobs = r"C:\Users\anubh\Documents\AI_Agent_LinkedIn_JobSearch\log_files\applied_jobs.xlsx"
questions_path = r"C:\Users\anubh\Documents\AI_Agent_LinkedIn_JobSearch\all_data\docs\questions.json"
search_filters_path = r"C:\Users\anubh\Documents\AI_Agent_LinkedIn_JobSearch\all_data\search_details\search_details.json"
import requests
import json

# Get job description from job page
def get_job_description(driver):
    try:
        job_details = driver.find_element(By.XPATH, ".//div[@class='jobs-description-content__text']")
        return job_details.text.strip()
    except Exception:
        print("Could not extract job description")
        return ""

# Updated rag_query to handle structured JSON responses
def rag_query(query):
    try:
        url = "http://127.0.0.1:8000/resume_qa"
        payload = {"query": query}
        response = requests.post(url, json=payload, timeout=30)
        response.raise_for_status()
        result = response.json().get('response', '{}')
        # Parse the response as JSON if it's a stringified JSON
        try:
            parsed_result = json.loads(result) if isinstance(result, str) else result
            return parsed_result
        except json.JSONDecodeError:
            return {"relevance_score": 0, "reason": "Invalid response format"}
    except requests.RequestException as e:
        print(f"Error querying FastAPI: {e}")
        return {"relevance_score": 0, "reason": f"Failed to query API: {str(e)}"}

# Check job relevance using FastAPI resume_qa endpoint
def check_job_relevance(job_description, skills=None):
    try:
        skills_str = ', '.join(skills) if skills else 'Not provided'
        prompt = f"""
        Compare the following job description with the candidate's resume and determine if the job is relevant based on skills and experience.
        Return a JSON object with a relevance score (0-100) and a brief reason.

        Job Description:
        {job_description}

        Skills (optional):
        {skills_str}

        Response format:
        ```json
        {{
            "relevance_score": <int>,
            "reason": "<brief explanation>"
        }}
        """
        result = rag_query(prompt)
        return result.get("relevance_score", 0), result.get("reason", "No reason provided")
    except Exception as e:
     print(f"Error in check_job_relevance: {e}")
     return 0, f"Failed to analyze job relevance: {str(e)}"
def read_json(json_path):
    with open(json_path,  'r') as file:
        data = json.load(file)
    file.close()
    return data

def write_json(json_data, json_path):
    with open(json_path , 'w') as file:
        json.dump(json_data, file, indent=4)
    file.close()


def get_current_datetime():
    # Get the current date and time
    now = datetime.now()
    # Format the date and time as MM/DD/YYYY HH:MM
    formatted_datetime = now.strftime("%m/%d/%Y %H:%M")
    return formatted_datetime

def append_row_to_excel(  row_data , applied_jobs = applied_jobs):

    # Load the existing workbook
    workbook = load_workbook(applied_jobs)
    # Select the active sheet
    sheet = workbook.active

    # Append the new row
    sheet.append(row_data)

    # Save the workbook
    workbook.save(applied_jobs)
    # Close the workbook
    workbook.close()
secrets = read_json(secrets_file)
search_filters = read_json(search_filters_path)
qna_dict = read_json(questions_path)



experience = search_filters['experience level']
date_posted = search_filters['Time Posted']

linkedin_url = "https://www.linkedin.com/"
password = secrets['linkedin_password']
username = secrets['linkedin_login']
role = search_filters['job role']
location = search_filters['Location']
# password = secrets['linkedin_password']
# username = secrets['linkedin_loginid']
# job_role = search_filters['job role']
# location = search_filters['Location']
# # salary = salary_dict[search_filters['Salary expectation']]
# # workmode = workmode_dict[search_filters['workmode']]
# # experience = exp_dict[search_filters['experience level']]
# # date_posted = time_dict[search_filters['Time Posted']]
time_dict = {
    "Any time": 0,
    "Past month": 1,
    "Past week": 2,
    "Past 24 hours": 3
}


exp_dict = {
    "Internship": 0,
    "Entry level": 1,
    "Associate": 2,
    "Mid-Senior level": 3,
    "Director": 4,
    "Executive": 5
}



def check_no_matches():
    no_matches  = driver.find_elements('xpath' , ".//h1[@class='t-24 t-black t-normal text-align-center']")
    if no_matches:
        return True
    
def reset_filters():
    reset_button = driver.find_element('xpath',".//button[@aria-label='Reset applied filters']")
    reset_button.click()

def date_filter( user_date):
    date_button = driver.find_element("xpath" , ".//div[@data-basic-filter-parameter-name = 'timePostedRange']  " )
    date_options = date_button.find_elements( "xpath" , ".//li[@class = 'search-reusables__collection-values-item'] ")
    date_button.click()
    label = date_options[time_dict[user_date]].find_element("xpath" , ".//label")
    label.click()
    time.sleep(1)
    results = date_button.find_element("xpath" , ".//button[@class = 'artdeco-button artdeco-button--2 artdeco-button--primary ember-view ml2'] ")
    results.click()
    time.sleep(2)

    if check_no_matches():
        reset_filters()



def exp_filter( exp_selected):
    exp_button = driver.find_element("xpath" , ".//div[@data-basic-filter-parameter-name = 'experience']  " )
    exp_options = exp_button.find_elements("xpath" , ".//li[@class = 'search-reusables__collection-values-item'] ")
    exp_button.click()
    for exp in exp_selected:
        label = exp_options[exp_dict[exp]].find_element("xpath" , ".//label")
        label.click()
    time.sleep(1)
    results = exp_button.find_element("xpath" , ".//button[@class = 'artdeco-button artdeco-button--2 artdeco-button--primary ember-view ml2'] ")
    results.click()
    time.sleep(2)

    if check_no_matches():
        reset_filters()



def apply_filters():
    date_filter(date_posted)
    exp_filter(experience)
def open_linkedin_and_signin():
    driver.get(linkedin_url)
    driver.maximize_window()
    signin_page=driver.find_element("xpath", ".//a[contains(text(), 'Sign in') and @href]")
    signin_page.click()
    username_field = driver.find_element("xpath" , ".//input[@id = 'username']")
    password_field = driver.find_element("xpath" , ".//input[@id = 'password']")
    submit_button = driver.find_element("xpath" , ".//button[@type = 'submit']")
    username_field.send_keys(username)
    password_field.send_keys(password)
    submit_button.click()

def easy_apply():
    easy_apply_button = driver.find_element(By.CLASS_NAME, "jobs-apply-button") 
    easy_apply_button.click()

#opening linkedin 
def get_url(url):
    driver.get(url)
    driver.maximize_window()
    
def sign_in(username, password):
    signin_page = driver.find_element("xpath", ".//a[contains(text(), 'Sign in') and @href]")
    signin_page.click()
    username_field = driver.find_element("xpath" , ".//input[@id = 'username']")
    password_field = driver.find_element("xpath" , ".//input[@id = 'password']")
    submit_button = driver.find_element("xpath" , ".//button[@type = 'submit']")
    
    username_field.send_keys(username)
    password_field.send_keys(password)
    submit_button.click()

def job_search_and_filters():
    time.sleep(2)
    get_url("https://www.linkedin.com/jobs")
    role_input = driver.find_element("xpath" , "/html/body/div[5]/header/div/div/div/div[2]/div[2]/div/div/input[1]")
    role_input.send_keys(role)
    time.sleep(1)
    location_input = driver.find_element("xpath" , ".//input[@aria-label = 'City, state, or zip code' and @autocomplete=  'address-level2']")
    location_input.send_keys(location)
    #submit
    role_input.send_keys(Keys.ENTER)
    time.sleep(2)
    apply_filters()
    time.sleep(2)
    apply_job()
    
# Load the Q&A dictionary
def rag_query(query):
    url = "http://127.0.0.1:8000/resume_qa"
    payload = {"query": query}
    response = requests.post(url, json=payload)
    return response.json().get('response')

def qna_engine(question):
    questions_list = list(qna_dict.keys())

    question = str(question)

    if question in qna_dict:
        answer = qna_dict[question]
    else:
        threshold = 90
        matches = process.extract(question, questions_list, scorer=fuzz.WRatio, limit=3)
        filtered_matches = [match for match in matches if match[1] >= threshold]
        
        if not filtered_matches:
            answer = rag_query(question)
            qna_dict[question] = answer
        else:
            # Corrected to use the matched question string
            matched_question = filtered_matches[0][0]  # Get the actual question from the tuple
            answer = qna_dict[matched_question]
            print("THERE IS A MATCH")

    return answer
    
def theresubmit(driver):
    buttons = driver.find_elements( "xpath" , ".//button[@aria-label = 'Submit application']") 
    return len(buttons) and True

def get_submit(driver):
    button = driver.find_element( "xpath" , ".//button[@aria-label = 'Submit application']") 
    button.click()



def there_resume(form):
    resumes = form.find_elements("xpath" ,".//div[contains(@class, 'ui-attachment jobs-document-upload-redesign-card__container')]")
    return len(resumes) and True
    

def select_resume(number):
    resumes = driver.find_elements("xpath" ,".//div[contains(@class, 'ui-attachment jobs-document-upload-redesign-card__container')]")
    driver.execute_script("arguments[0].click();", resumes[number]) 
    resumes[number].click()   
    


def click_next():
    button = driver.find_element("xpath" , ".//button[@aria-label = 'Continue to next step' or @aria-label = 'Review your application']")
    button.click()




def attempt_click_next(current_progress, wait_time=2):
    try:
        click_next()  # Attempt to click the next button
        print("Clicked 'Next' button.")
        
        time.sleep(wait_time)  # Wait for 2 seconds to allow the progress to update
        
        # Check if progress has changed
        new_progress = get_progress_percentage(driver)
        
        if new_progress != current_progress:
            print(f"Progress changed from {current_progress}% to {new_progress}%.")
            return True  # Progress updated successfully
        else:
            print(f"Progress did not change. Still at {current_progress}%.")
            return False  # No change in progress
    except Exception as e:
        print(f"An error occurred: {str(e)}")
        return False  # Handle any errors and return False

def get_progress_percentage(driver):
    # Locate the progress element and extract the value
    progress_element = driver.find_element(By.CSS_SELECTOR, "progress.artdeco-completeness-meter-linear__progress-element")
    current_progress = progress_element.get_attribute("value")
    return current_progress

def radio_select(radio_buttons):

    for radio_button in radio_buttons:


        question = radio_button.find_element(By.XPATH, ".//legend/span[@data-test-form-builder-radio-button-form-component__title]").text
        option_elements = radio_button.find_elements(By.XPATH, ".//div[@data-test-text-selectable-option]")
        options = []
        
        for option in option_elements:
            options.append(  option.find_element(By.XPATH, ".//label").text)
        # print(question, options)
        answer = qna_engine(question)
        # print(answer)
        answer_match = process.extractOne(answer, options)[0] 

        # print("RADIO")
        selected_option = option_elements[options.index(answer_match)].find_element(By.XPATH, ".//input[@type='radio']")
        driver.execute_script("arguments[0].click();", selected_option)
        #driver.execute_script("arguments[0].click();", selected_option)
    

def dropdown_select(dropdowns):
    # Extract the question
    for dropdown_element in dropdowns:
        question = dropdown_element.find_element(By.XPATH, ".//label/span[@aria-hidden='true']").text
        
        # Extract the options
        options = [option.text for option in dropdown_element.find_elements(By.XPATH, ".//select/option")]
        
        # Print the question and options
        # print("Question:", question)
        # print("Options:", options)
        answer = qna_engine(question)
        # Find the best match for the answer
        answer_match = process.extractOne(answer, options)[0]
        # print(answer)
        # Select the matched option using Select
        select_element = dropdown_element.find_element(By.XPATH, ".//select[contains(@id, 'text-entity-list-form-component-formElement')]")
        select = Select(select_element)
        select.select_by_visible_text(answer_match)


def fill_single_line_text_field(text_fields):
    for text_field in text_fields:
        # Extract the question
        question = text_field.find_element(By.XPATH, ".//label").text
        
        # Print the question
        # print("Question:", question)
        answer = qna_engine(question)
        # print(answer)

        # print(" TEXT FILL")
        # Find the input field and clear any existing text
        input_field = text_field.find_element(By.XPATH, ".//input[@type='text']")
        input_field.clear()  # Clear the existing input if any
        input_field.send_keys(answer)  # Fill the answer in the input field

def fill_multiline_text_field(text_fields):
    for text_field in text_fields:
        # Extract the question
        question = text_field.find_element(By.XPATH, ".//label").text
        answer = qna_engine(question)
        # print(answer)
        # print("MULTI TEXT FILL")
        # # Print the question
        # print("Question:", question)
        
        # Find the textarea field and clear any existing text
        textarea_field = text_field.find_element(By.XPATH, ".//textarea")
        textarea_field.clear()  # Clear the existing input if any
        textarea_field.send_keys(answer)  # Fill the answer in the textarea field


def checkbox_select(fieldset_elements):
    # Extract the question
    for fieldset_element in fieldset_elements:
        question = fieldset_element.find_element(By.XPATH, ".//legend/div[@data-test-checkbox-form-title='true']").text
        answers = qna_engine(question)
        # Extract the options
        option_elements = fieldset_element.find_elements(By.XPATH, ".//div[@data-test-text-selectable-option]")
        options = [option.find_element(By.XPATH, ".//label").text for option in option_elements]
        # print(answer)
        # Print the question and options
        # print("Question:", question)
        # print("Options:", options)
        if len(options) == 1:
            checkbox = option_elements[0].find_element(By.XPATH, ".//input[@type='checkbox']")
            if not checkbox.is_selected():
                checkbox.click()
                return
        # Select the matched options
        for answer in answers:
            answer_match = process.extractOne(answer, options)[0]
            option_index = options.index(answer_match)
            checkbox = option_elements[option_index].find_element(By.XPATH, ".//input[@type='checkbox']")
            if not checkbox.is_selected():
                checkbox.click()


def autofill_answer(autofill_fields):
    for autofill_field in autofill_fields:
        # Extract the question
        question = autofill_field.find_element(By.XPATH, ".//label").text
        # print("Question:", question)
        
        
        # Find the input field
        input_field = autofill_field.find_element(By.XPATH, ".//input[@aria-autocomplete='list']")
        
        # Get the answer from the user
        answer  = qna_engine(question)
        print(answer)
        # Fill the answer in the input field
        input_field.send_keys(answer)
        time.sleep(1.0)
        input_field.send_keys(Keys.DOWN)
        input_field.send_keys(Keys.ENTER)

    
def apply_job(job_card):
    role_name = job_card.find_element(By.XPATH, ".//div[@class='full-width artdeco-entity-lockup__title ember-view']").text.split('\n')[0]
    company_name = job_card.find_element(By.XPATH, ".//div[@class='artdeco-entity-lockup__subtitle ember-view']").text
    other_data = job_card.find_elements(By.XPATH, ".//ul[@class='job-card-container__metadata-wrapper']")
    data_tuple = [get_current_datetime(), role_name, company_name]
    for other in other_data:
        data_tuple.append(other.text)

    # Extract job description
    job_card.click()
    time.sleep(1)
    job_description = get_job_description(driver)

    # Check job relevance
    skills = search_filters.get('skills', [])  # From search_details.json
    relevance_score, reason = check_job_relevance(job_description, skills)
    print(f"APPLYING TO {role_name} AT {company_name} | Relevance Score: {relevance_score} | Reason: {reason}")

    # Skip if relevance score is below threshold
    if relevance_score < 70:
        print(f"Skipping job: {role_name} at {company_name} (low relevance)")
        return

    # Log job details
    append_row_to_excel(data_tuple)

    # Proceed with Easy Apply
    try:
        easy_apply_button = driver.find_element(By.XPATH, ".//button[contains(@aria-label, 'Easy Apply to')]")
        easy_apply_button.click()
        print("Clicked Easy Apply")
    except Exception:
        print(f"Easy Apply not available for {role_name}")
        return

    filledresume = False
    applying = True

    while applying:
        current_progress = get_progress_percentage(driver)
        print(f"Current progress is {current_progress}%")

        if theresubmit(driver):
            print("Found submit")
            get_submit(driver)
            break

        apply = driver.find_element(By.XPATH, ".//div[@class='jobs-easy-apply-content']")
        form = apply.find_element(By.XPATH, ".//form")

        # Handle resume selection
        if not filledresume and there_resume(form):
            try:
                select_resume(0)
                filledresume = True
            except Exception as e:
                print(f"Error selecting resume: {e}")

        # Handle radio buttons selection
        form = driver.find_element(By.XPATH, ".//form")
        radios = form.find_elements(By.XPATH, ".//fieldset[@data-test-form-builder-radio-button-form-component='true']")
        if radios:
            try:
                radio_select(radios)
            except Exception as e:
                print(f"Error selecting radio buttons: {e}")

        # Handle dropdown selection
        form = driver.find_element(By.XPATH, ".//form")
        text_dropdowns = form.find_elements(By.XPATH, ".//div[@data-test-text-entity-list-form-component='']")
        if text_dropdowns:
            try:
                dropdown_select(text_dropdowns)
            except Exception as e:
                print(f"Error selecting dropdowns: {e}")

        # Handle single-line text fields
        form = driver.find_element(By.XPATH, ".//form")
        singleline_textfields = form.find_elements(By.XPATH, ".//div[@data-test-single-line-text-form-component='']")
        if singleline_textfields:
            try:
                fill_single_line_text_field(singleline_textfields)
            except Exception as e:
                print(f"Error filling single-line text fields: {e}")

        # Handle multiline text fields
        form = driver.find_element(By.XPATH, ".//form")
        multiline_fields = form.find_elements(By.XPATH, ".//div[@data-test-multiline-text-form-component='']")
        if multiline_fields:
            try:
                fill_multiline_text_field(multiline_fields)
            except Exception as e:
                print(f"Error filling multiline text fields: {e}")

        # Handle checkboxes
        form = driver.find_element(By.XPATH, ".//form")
        checkboxes = form.find_elements(By.XPATH, ".//fieldset[@data-test-checkbox-form-component='true']")
        if checkboxes:
            try:
                checkbox_select(checkboxes)
            except Exception as e:
                print(f"Error selecting checkboxes: {e}")

        # Handle autofill fields
        form = driver.find_element(By.XPATH, ".//form")
        autofills = form.find_elements(By.XPATH, ".//div[@data-test-single-typeahead-entity-form-component='']")
        if autofills:
            try:
                autofill_answer(autofills)
            except Exception as e:
                print(f"Error filling autofill fields: {e}")

        next_buttons = driver.find_elements(By.XPATH, ".//button[@aria-label='Continue to next step' or @aria-label='Review your application']")
        if next_buttons:
            attempt = False
            while not attempt:
                print("Attempting to click next")
                next_buttons = driver.find_elements(By.XPATH, ".//button[@aria-label='Continue to next step' or @aria-label='Review your application']")
                attempt = attempt_click_next(current_progress)
                if not attempt:
                    print("Manually fill this page.")
                    time.sleep(20)  # Wait for 20 seconds before the next attempt

    time.sleep(2)
    closingpopup = True
    while closingpopup:
        print("Finding exit")
        exit_buttons = driver.find_elements(By.XPATH, ".//button[@aria-label='Dismiss']")
        if exit_buttons:
            exit_buttons[0].click()
            print("Exited")
            print(f"APPLIED TO {role_name} AT {company_name}")
            append_row_to_excel(data_tuple)
            closingpopup = False
get_current_datetime()
'09/08/2025 13:49'
def iterator( driver):
    currentpage = 1
    nextpageexists = True
    
    counter = 0
    while nextpageexists:
        
        search_results = driver.find_element("xpath" , ".//div[contains(@class, 'jobs-search-results-list')]")
        list_of_jobs = search_results.find_elements( "xpath" , "//li[@data-occludable-job-id]")
        
        attempt_job = 0
        while attempt_job < 3:
            try:
                driver.execute_script("arguments[0].scrollIntoView();", list_of_jobs[-1])
                
                attempt_job = 4
            except Exception as e:
                attempt_job += 1
        if attempt_job == 3:
            return
       
        for job in list_of_jobs:
            
            start_time = time.time()
            time.sleep(1.0)
            job.click() 
            time.sleep(0.2)
            apply_job(job)
            counter+=1
            print(counter, " jobs")
            write_json(qna_dict, questions_path)
            end_time = time.time()

            print("time taken" , end_time - start_time)
            
        
        

        
        attempt_job = 0
        while attempt_job < 3:
            try:
                
                driver.execute_script("arguments[0].click();", list_of_jobs[-1])
                attempt_job = 4
            except Exception as e:
                attempt_job += 1
        if attempt_job == 3:
            return
        
        # next_pages = driver.find_elements("xpath", f"//button[@aria-label = 'Page {currentpage + 1}']")
        currentpage+=1


        attempts = 0
        while attempts < 5:
            try:
                driver.find_element("xpath", f"//button[@aria-label = 'Page {currentpage + 1}']").click()
                nextpageexists = True
                attempts = 5
            except Exception as e:
                attempts += 1
                nextpageexists = False

        if nextpageexists:
            print("moving to next page")
            
            
        else:
            print("ending function")
            return
    return
open_linkedin_and_signin()
job_search_and_filters()
time.sleep(3)
iterator(driver)
---------------------------------------------------------------------------
ElementClickInterceptedException          Traceback (most recent call last)
Cell In[19], line 4
      2 job_search_and_filters()
      3 time.sleep(3)
----> 4 iterator(driver)

Cell In[18], line 26, in iterator(driver)
     24 start_time = time.time()
     25 time.sleep(1.0)
---> 26 job.click() 
     27 time.sleep(0.2)
     28 apply_job(job)

File c:\Users\anubh\AppData\Local\Programs\Python\Python39\lib\site-packages\selenium\webdriver\remote\webelement.py:120, in WebElement.click(self)
    112 def click(self) -> None:
    113     """Clicks the element.
    114 
    115     Example:
   (...)
    118     >>> element.click()
    119     """
--> 120     self._execute(Command.CLICK_ELEMENT)

File c:\Users\anubh\AppData\Local\Programs\Python\Python39\lib\site-packages\selenium\webdriver\remote\webelement.py:573, in WebElement._execute(self, command, params)
    571     params = {}
    572 params["id"] = self._id
--> 573 return self._parent.execute(command, params)

File c:\Users\anubh\AppData\Local\Programs\Python\Python39\lib\site-packages\selenium\webdriver\remote\webdriver.py:458, in WebDriver.execute(self, driver_command, params)
    455 response = cast(RemoteConnection, self.command_executor).execute(driver_command, params)
    457 if response:
--> 458     self.error_handler.check_response(response)
    459     response["value"] = self._unwrap_value(response.get("value", None))
    460     return response

File c:\Users\anubh\AppData\Local\Programs\Python\Python39\lib\site-packages\selenium\webdriver\remote\errorhandler.py:232, in ErrorHandler.check_response(self, response)
    230         alert_text = value["alert"].get("text")
    231     raise exception_class(message, screen, stacktrace, alert_text)  # type: ignore[call-arg]  # mypy is not smart enough here
--> 232 raise exception_class(message, screen, stacktrace)

ElementClickInterceptedException: Message: element click intercepted: Element <li id="ember880" class="ember-view   NZYAIeDKJomwGvZofrLWWslvZoScLAgjTM occludable-update p0 relative scaffold-layout__list-item" data-occludable-job-id="4293540640">...</li> is not clickable at point (388, 251). Other element would receive the click: <select id="text-entity-list-form-component-formElement-urn-li-jobs-applyformcommon-easyApplyFormElement-4293540640-22879074708-multipleChoice" class="fb-dash-form-element__select-dropdown
      " aria-describedby="text-entity-list-form-component-formElement-urn-li-jobs-applyformcommon-easyApplyFormElement-4293540640-22879074708-multipleChoice-error" aria-required="true" required="" data-test-text-entity-list-form-select="">...</select>
  (Session info: MicrosoftEdge=140.0.3485.54); For documentation on this error, please visit: https://www.selenium.dev/documentation/webdriver/troubleshooting/errors#elementclickinterceptedexception
Stacktrace:
	GetHandleVerifier [0x0x7ff7de8d0bc5+18309]
	(No symbol) [0x0x7ff7de83e320]
	GetHandleVerifier [0x0x7ff7deac5bfc+2070460]
	(No symbol) [0x0x7ff7de691863]
	(No symbol) [0x0x7ff7de68f7b3]
	(No symbol) [0x0x7ff7de68d19e]
	(No symbol) [0x0x7ff7de68c345]
	(No symbol) [0x0x7ff7de6814ce]
	(No symbol) [0x0x7ff7de6ac58a]
	(No symbol) [0x0x7ff7de680d4b]
	(No symbol) [0x0x7ff7de680bfd]
	(No symbol) [0x0x7ff7de6ac840]
	(No symbol) [0x0x7ff7de680d4b]
	(No symbol) [0x0x7ff7de6c9992]
	(No symbol) [0x0x7ff7de6ac253]
	(No symbol) [0x0x7ff7de6801f6]
	(No symbol) [0x0x7ff7de67f462]
	(No symbol) [0x0x7ff7de680033]
	(No symbol) [0x0x7ff7de76f805]
	(No symbol) [0x0x7ff7de77afdd]
	GetHandleVerifier [0x0x7ff7de9662b3+630387]
	GetHandleVerifier [0x0x7ff7de96de51+662033]
	(No symbol) [0x0x7ff7de84a409]
	(No symbol) [0x0x7ff7de843da4]
	(No symbol) [0x0x7ff7de843ef3]
	(No symbol) [0x0x7ff7de837d76]
	BaseThreadInitThunk [0x0x7fff9b76e8d7+23]
	RtlUserThreadStart [0x0x7fff9d4dc34c+44]
